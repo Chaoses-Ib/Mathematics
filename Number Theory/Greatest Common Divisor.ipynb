{
 "cells": [
  {
   "cell_type": "code",
   "execution_count": 1,
   "metadata": {},
   "outputs": [],
   "source": [
    "import math"
   ]
  },
  {
   "cell_type": "code",
   "execution_count": 2,
   "metadata": {},
   "outputs": [
    {
     "data": {
      "text/plain": [
       "(2, 43)"
      ]
     },
     "execution_count": 2,
     "metadata": {},
     "output_type": "execute_result"
    }
   ],
   "source": [
    "math.gcd(1234, 5678), math.gcd(16534528044, 8332745927)"
   ]
  },
  {
   "cell_type": "code",
   "execution_count": 7,
   "metadata": {},
   "outputs": [
    {
     "data": {
      "text/plain": [
       "(2, 43)"
      ]
     },
     "execution_count": 7,
     "metadata": {},
     "output_type": "execute_result"
    }
   ],
   "source": [
    "def gcd_aux(a, b):\n",
    "    if b == 0:\n",
    "        return a\n",
    "    return gcd_aux(b, a % b)\n",
    "\n",
    "def gcd(a, b):\n",
    "    if a < b:\n",
    "        a, b = b, a\n",
    "    return gcd_aux(a, b)\n",
    "\n",
    "gcd(1234, 5678), gcd(16534528044,8332745927)"
   ]
  },
  {
   "cell_type": "code",
   "execution_count": null,
   "metadata": {},
   "outputs": [],
   "source": [
    "def extended_euclidean(a, b):\n",
    "    q, r = a // b, a % b\n",
    "    s, t = 1, -q\n",
    "    while r != 0:\n",
    "        q, r = a // b, a % b\n",
    "        s *= -q\n",
    "        t *= -q\n",
    "        a, b = b, r\n",
    "    "
   ]
  },
  {
   "cell_type": "code",
   "execution_count": 5,
   "metadata": {},
   "outputs": [
    {
     "name": "stdout",
     "output_type": "stream",
     "text": [
      "1 = 1 * 0 + 1\n",
      "0 = 1 * 1 + -1\n",
      "1 = 2 * -1 + 3\n",
      "-1 = 1 * 3 + -4\n",
      "3 = 3 * -4 + 15\n"
     ]
    },
    {
     "data": {
      "text/plain": [
       "(1, -4, 7)"
      ]
     },
     "execution_count": 5,
     "metadata": {},
     "output_type": "execute_result"
    }
   ],
   "source": [
    "def extended_euclidean(a, b):\n",
    "    old_r, r = a, b\n",
    "    old_s, s = 1, 0\n",
    "    old_t, t = 0, 1\n",
    "    while r != 0:\n",
    "        q = old_r // r\n",
    "        old_r, r = r, old_r - q * r\n",
    "        print(f'{old_s} = {q} * {s} + {old_s - q * s}')\n",
    "        old_s, s = s, old_s - q * s\n",
    "        old_t, t = t, old_t - q * t\n",
    "        #print(s)\n",
    "    return old_r, old_s, old_t\n",
    "\n",
    "extended_euclidean(26, 15)"
   ]
  }
 ],
 "metadata": {
  "kernelspec": {
   "display_name": "Python 3.9.1 ('base')",
   "language": "python",
   "name": "python3"
  },
  "language_info": {
   "codemirror_mode": {
    "name": "ipython",
    "version": 3
   },
   "file_extension": ".py",
   "mimetype": "text/x-python",
   "name": "python",
   "nbconvert_exporter": "python",
   "pygments_lexer": "ipython3",
   "version": "3.9.1"
  },
  "orig_nbformat": 4,
  "vscode": {
   "interpreter": {
    "hash": "19d1d53a962d236aa061289c2ac16dc8e6d9648c89fe79f459ae9a3493bc67b4"
   }
  }
 },
 "nbformat": 4,
 "nbformat_minor": 2
}
